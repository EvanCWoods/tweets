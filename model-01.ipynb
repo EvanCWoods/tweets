{
  "nbformat": 4,
  "nbformat_minor": 0,
  "metadata": {
    "colab": {
      "name": "data-exploration.ipynb",
      "provenance": [],
      "authorship_tag": "ABX9TyN6ljEu3LD5zhbYlPXkeytC"
    },
    "kernelspec": {
      "name": "python3",
      "display_name": "Python 3"
    },
    "language_info": {
      "name": "python"
    }
  },
  "cells": [
    {
      "cell_type": "code",
      "metadata": {
        "id": "Da4CN18l8qjf"
      },
      "source": [
        "import tensorflow as tf\n",
        "import numpy as np\n",
        "import pandas as pd\n",
        "import matplotlib.pyplot as plt\n",
        "import csv"
      ],
      "execution_count": 31,
      "outputs": []
    },
    {
      "cell_type": "code",
      "metadata": {
        "colab": {
          "base_uri": "https://localhost:8080/",
          "height": 419
        },
        "id": "EJFoOlk_84B9",
        "outputId": "ac843d10-3741-4e87-86a6-95e6b1056c5e"
      },
      "source": [
        "df = pd.read_csv('tweet_emotions.csv')\n",
        "\n",
        "df"
      ],
      "execution_count": 32,
      "outputs": [
        {
          "output_type": "execute_result",
          "data": {
            "text/html": [
              "<div>\n",
              "<style scoped>\n",
              "    .dataframe tbody tr th:only-of-type {\n",
              "        vertical-align: middle;\n",
              "    }\n",
              "\n",
              "    .dataframe tbody tr th {\n",
              "        vertical-align: top;\n",
              "    }\n",
              "\n",
              "    .dataframe thead th {\n",
              "        text-align: right;\n",
              "    }\n",
              "</style>\n",
              "<table border=\"1\" class=\"dataframe\">\n",
              "  <thead>\n",
              "    <tr style=\"text-align: right;\">\n",
              "      <th></th>\n",
              "      <th>tweet_id</th>\n",
              "      <th>sentiment</th>\n",
              "      <th>content</th>\n",
              "    </tr>\n",
              "  </thead>\n",
              "  <tbody>\n",
              "    <tr>\n",
              "      <th>0</th>\n",
              "      <td>1956967341</td>\n",
              "      <td>empty</td>\n",
              "      <td>@tiffanylue i know  i was listenin to bad habi...</td>\n",
              "    </tr>\n",
              "    <tr>\n",
              "      <th>1</th>\n",
              "      <td>1956967666</td>\n",
              "      <td>sadness</td>\n",
              "      <td>Layin n bed with a headache  ughhhh...waitin o...</td>\n",
              "    </tr>\n",
              "    <tr>\n",
              "      <th>2</th>\n",
              "      <td>1956967696</td>\n",
              "      <td>sadness</td>\n",
              "      <td>Funeral ceremony...gloomy friday...</td>\n",
              "    </tr>\n",
              "    <tr>\n",
              "      <th>3</th>\n",
              "      <td>1956967789</td>\n",
              "      <td>enthusiasm</td>\n",
              "      <td>wants to hang out with friends SOON!</td>\n",
              "    </tr>\n",
              "    <tr>\n",
              "      <th>4</th>\n",
              "      <td>1956968416</td>\n",
              "      <td>neutral</td>\n",
              "      <td>@dannycastillo We want to trade with someone w...</td>\n",
              "    </tr>\n",
              "    <tr>\n",
              "      <th>...</th>\n",
              "      <td>...</td>\n",
              "      <td>...</td>\n",
              "      <td>...</td>\n",
              "    </tr>\n",
              "    <tr>\n",
              "      <th>39995</th>\n",
              "      <td>1753918954</td>\n",
              "      <td>neutral</td>\n",
              "      <td>@JohnLloydTaylor</td>\n",
              "    </tr>\n",
              "    <tr>\n",
              "      <th>39996</th>\n",
              "      <td>1753919001</td>\n",
              "      <td>love</td>\n",
              "      <td>Happy Mothers Day  All my love</td>\n",
              "    </tr>\n",
              "    <tr>\n",
              "      <th>39997</th>\n",
              "      <td>1753919005</td>\n",
              "      <td>love</td>\n",
              "      <td>Happy Mother's Day to all the mommies out ther...</td>\n",
              "    </tr>\n",
              "    <tr>\n",
              "      <th>39998</th>\n",
              "      <td>1753919043</td>\n",
              "      <td>happiness</td>\n",
              "      <td>@niariley WASSUP BEAUTIFUL!!! FOLLOW ME!!  PEE...</td>\n",
              "    </tr>\n",
              "    <tr>\n",
              "      <th>39999</th>\n",
              "      <td>1753919049</td>\n",
              "      <td>love</td>\n",
              "      <td>@mopedronin bullet train from tokyo    the gf ...</td>\n",
              "    </tr>\n",
              "  </tbody>\n",
              "</table>\n",
              "<p>40000 rows × 3 columns</p>\n",
              "</div>"
            ],
            "text/plain": [
              "         tweet_id  ...                                            content\n",
              "0      1956967341  ...  @tiffanylue i know  i was listenin to bad habi...\n",
              "1      1956967666  ...  Layin n bed with a headache  ughhhh...waitin o...\n",
              "2      1956967696  ...                Funeral ceremony...gloomy friday...\n",
              "3      1956967789  ...               wants to hang out with friends SOON!\n",
              "4      1956968416  ...  @dannycastillo We want to trade with someone w...\n",
              "...           ...  ...                                                ...\n",
              "39995  1753918954  ...                                   @JohnLloydTaylor\n",
              "39996  1753919001  ...                     Happy Mothers Day  All my love\n",
              "39997  1753919005  ...  Happy Mother's Day to all the mommies out ther...\n",
              "39998  1753919043  ...  @niariley WASSUP BEAUTIFUL!!! FOLLOW ME!!  PEE...\n",
              "39999  1753919049  ...  @mopedronin bullet train from tokyo    the gf ...\n",
              "\n",
              "[40000 rows x 3 columns]"
            ]
          },
          "metadata": {
            "tags": []
          },
          "execution_count": 32
        }
      ]
    },
    {
      "cell_type": "code",
      "metadata": {
        "id": "1eSUfvm7_yiP"
      },
      "source": [
        "df['sentiment'] = pd.Categorical(df['sentiment'])\n",
        "df['sentiment'] = df.sentiment.cat.codes"
      ],
      "execution_count": 33,
      "outputs": []
    },
    {
      "cell_type": "code",
      "metadata": {
        "id": "-EG87wiM9Lr8"
      },
      "source": [
        "sentiment = df['sentiment']\n",
        "content = df['content']"
      ],
      "execution_count": 34,
      "outputs": []
    },
    {
      "cell_type": "code",
      "metadata": {
        "colab": {
          "base_uri": "https://localhost:8080/"
        },
        "id": "Y3FjBF5P998Y",
        "outputId": "f379ee37-07a3-4e94-ae3e-95f748fd4ab6"
      },
      "source": [
        "print(content[0])\n",
        "print()\n",
        "print(sentiment[0])"
      ],
      "execution_count": 35,
      "outputs": [
        {
          "output_type": "stream",
          "text": [
            "@tiffanylue i know  i was listenin to bad habit earlier and i started freakin at his part =[\n",
            "\n",
            "2\n"
          ],
          "name": "stdout"
        }
      ]
    },
    {
      "cell_type": "code",
      "metadata": {
        "id": "oHyDDDKA-BVr"
      },
      "source": [
        "input_sentences = []\n",
        "\n",
        "for row in content:\n",
        "  input_sentences.append(row)\n",
        "\n",
        "input_sentences = np.array(input_sentences)"
      ],
      "execution_count": 36,
      "outputs": []
    },
    {
      "cell_type": "code",
      "metadata": {
        "colab": {
          "base_uri": "https://localhost:8080/",
          "height": 37
        },
        "id": "06fRM5lg-rPh",
        "outputId": "1aebc699-a35b-48bd-8c20-1dd4e7cd271f"
      },
      "source": [
        "input_sentences[0]"
      ],
      "execution_count": 37,
      "outputs": [
        {
          "output_type": "execute_result",
          "data": {
            "application/vnd.google.colaboratory.intrinsic+json": {
              "type": "string"
            },
            "text/plain": [
              "'@tiffanylue i know  i was listenin to bad habit earlier and i started freakin at his part =['"
            ]
          },
          "metadata": {
            "tags": []
          },
          "execution_count": 37
        }
      ]
    },
    {
      "cell_type": "code",
      "metadata": {
        "id": "yrF5XyJH-0rh"
      },
      "source": [
        "labels = []\n",
        "\n",
        "for row in sentiment:\n",
        "  labels.append(row)\n",
        "\n",
        "labels = np.array(labels)"
      ],
      "execution_count": 38,
      "outputs": []
    },
    {
      "cell_type": "code",
      "metadata": {
        "colab": {
          "base_uri": "https://localhost:8080/"
        },
        "id": "slXDvNX-_GxF",
        "outputId": "c827c694-8da3-4f45-fba6-fd2a992eb402"
      },
      "source": [
        "labels[0]"
      ],
      "execution_count": 39,
      "outputs": [
        {
          "output_type": "execute_result",
          "data": {
            "text/plain": [
              "2"
            ]
          },
          "metadata": {
            "tags": []
          },
          "execution_count": 39
        }
      ]
    },
    {
      "cell_type": "code",
      "metadata": {
        "colab": {
          "base_uri": "https://localhost:8080/"
        },
        "id": "bmMWUokB_Hzd",
        "outputId": "63f43703-a959-4401-fffa-5b06ba1ffaea"
      },
      "source": [
        "print(input_sentences.shape)\n",
        "print(labels.shape)"
      ],
      "execution_count": 40,
      "outputs": [
        {
          "output_type": "stream",
          "text": [
            "(40000,)\n",
            "(40000,)\n"
          ],
          "name": "stdout"
        }
      ]
    },
    {
      "cell_type": "code",
      "metadata": {
        "id": "jomwLNKP_uwo"
      },
      "source": [
        "from tensorflow.keras.preprocessing.text import Tokenizer\n",
        "from tensorflow.keras.preprocessing.sequence import pad_sequences"
      ],
      "execution_count": 41,
      "outputs": []
    },
    {
      "cell_type": "code",
      "metadata": {
        "id": "YvaupVUeAwdV"
      },
      "source": [
        "tokenizer = Tokenizer(num_words=10000, oov_token='<OOV>')\n",
        "tokenizer.fit_on_texts(input_sentences)\n",
        "word_index = tokenizer.word_index\n",
        "total_words = len(word_index) + 1\n",
        "\n",
        "\n",
        "input_sequences = tokenizer.texts_to_sequences(input_sentences)\n",
        "input_sequences = pad_sequences(input_sequences, maxlen=17, padding='post')"
      ],
      "execution_count": 48,
      "outputs": []
    },
    {
      "cell_type": "code",
      "metadata": {
        "colab": {
          "base_uri": "https://localhost:8080/"
        },
        "id": "BgHS1QZ2BA7J",
        "outputId": "14e16610-6141-4b74-8f89-afb0c9109218"
      },
      "source": [
        "input_sequences[0]"
      ],
      "execution_count": 50,
      "outputs": [
        {
          "output_type": "execute_result",
          "data": {
            "text/plain": [
              "array([   1,    2,   56,    2,   26, 3310,    3,  121, 4673,  857,    7,\n",
              "          2,  615, 1406,   25,  185,  561], dtype=int32)"
            ]
          },
          "metadata": {
            "tags": []
          },
          "execution_count": 50
        }
      ]
    },
    {
      "cell_type": "code",
      "metadata": {
        "colab": {
          "base_uri": "https://localhost:8080/"
        },
        "id": "mXvDfKabBbNe",
        "outputId": "b51fb0fd-0411-4941-c09c-3daf2269d03d"
      },
      "source": [
        "model = tf.keras.Sequential([\n",
        "  tf.keras.layers.Embedding(10000, 32, input_length=17),\n",
        "  tf.keras.layers.Bidirectional(\n",
        "      tf.keras.layers.LSTM(64, return_sequences=True)\n",
        "  ),\n",
        "    tf.keras.layers.Bidirectional(\n",
        "      tf.keras.layers.LSTM(64, return_sequences=True)\n",
        "  ),\n",
        "    tf.keras.layers.Bidirectional(\n",
        "      tf.keras.layers.LSTM(64, return_sequences=True)\n",
        "  ),\n",
        "  tf.keras.layers.LSTM(64),\n",
        "  tf.keras.layers.Dense(128, activation='relu'),\n",
        "  tf.keras.layers.Dense(64, activation='relu'),\n",
        "  tf.keras.layers.Dense(32, activation='relu'),\n",
        "  tf.keras.layers.Dense(16, activation='relu'),\n",
        "  tf.keras.layers.Dense(13, activation='softmax')\n",
        "])\n",
        "\n",
        "model.compile(loss='sparse_categorical_crossentropy',\n",
        "              optimizer='adam',\n",
        "              metrics=['accuracy'])\n",
        "\n",
        "history = model.fit(input_sequences, labels, epochs=10)"
      ],
      "execution_count": 53,
      "outputs": [
        {
          "output_type": "stream",
          "text": [
            "Epoch 1/10\n",
            "1250/1250 [==============================] - 92s 67ms/step - loss: 2.1352 - accuracy: 0.2492\n",
            "Epoch 2/10\n",
            "1250/1250 [==============================] - 83s 66ms/step - loss: 2.0102 - accuracy: 0.3194\n",
            "Epoch 3/10\n",
            "1250/1250 [==============================] - 83s 67ms/step - loss: 1.8972 - accuracy: 0.3613\n",
            "Epoch 4/10\n",
            "1250/1250 [==============================] - 85s 68ms/step - loss: 1.8215 - accuracy: 0.3909\n",
            "Epoch 5/10\n",
            "1250/1250 [==============================] - 84s 67ms/step - loss: 1.7597 - accuracy: 0.4129\n",
            "Epoch 6/10\n",
            "1250/1250 [==============================] - 84s 67ms/step - loss: 1.6956 - accuracy: 0.4379\n",
            "Epoch 7/10\n",
            "1250/1250 [==============================] - 84s 67ms/step - loss: 1.6282 - accuracy: 0.4610\n",
            "Epoch 8/10\n",
            "1250/1250 [==============================] - 83s 67ms/step - loss: 1.5659 - accuracy: 0.4859\n",
            "Epoch 9/10\n",
            "1250/1250 [==============================] - 84s 67ms/step - loss: 1.5031 - accuracy: 0.5062\n",
            "Epoch 10/10\n",
            "1250/1250 [==============================] - 84s 67ms/step - loss: 1.4441 - accuracy: 0.5287\n"
          ],
          "name": "stdout"
        }
      ]
    },
    {
      "cell_type": "code",
      "metadata": {
        "id": "z6x7QpHHCa-3"
      },
      "source": [
        ""
      ],
      "execution_count": null,
      "outputs": []
    }
  ]
}